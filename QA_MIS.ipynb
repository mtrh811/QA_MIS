{
  "nbformat": 4,
  "nbformat_minor": 0,
  "metadata": {
    "colab": {
      "name": "Untitled0.ipynb",
      "provenance": []
    },
    "kernelspec": {
      "name": "python3",
      "display_name": "Python 3"
    },
    "language_info": {
      "name": "python"
    }
  },
  "cells": [
    {
      "cell_type": "code",
      "execution_count": null,
      "metadata": {
        "id": "38jdXAslXq17"
      },
      "outputs": [],
      "source": [
        "!pip install dwave-ocean-sdk "
      ]
    },
    {
      "cell_type": "code",
      "source": [
        "import numpy as np\n",
        "import matplotlib.pyplot as plt\n",
        "import networkx as nx\n",
        "import random\n",
        "from itertools import product, combinations\n",
        "from dwave.system import DWaveSampler, EmbeddingComposite"
      ],
      "metadata": {
        "id": "4jA-sFpeD5bG"
      },
      "execution_count": 1,
      "outputs": []
    },
    {
      "cell_type": "code",
      "source": [
        "n = 10\n",
        "G = nx.fast_gnp_random_graph(n, 0.5)\n",
        "nx.draw_networkx(G)\n",
        "plt.show()"
      ],
      "metadata": {
        "colab": {
          "base_uri": "https://localhost:8080/",
          "height": 248
        },
        "id": "5lXjf8IzERlQ",
        "outputId": "99a588bf-65b4-4a96-e6f7-4b35ea01d589"
      },
      "execution_count": 5,
      "outputs": [
        {
          "output_type": "display_data",
          "data": {
            "text/plain": [
              "<Figure size 432x288 with 1 Axes>"
            ],
            "image/png": "[encoded data removed]"
          },
          "metadata": {}
        }
      ]
    },
    {
      "cell_type": "code",
      "source": [
        "QUBO = {}\n",
        "nodes = list(G.nodes())\n",
        "for i in range(n):\n",
        "    QUBO[(i, i)] = -1\n",
        "for (u, v) in G.edges():\n",
        "    QUBO[(nodes.index(u), nodes.index(v))] = QUBO[(nodes.index(v), nodes.index(u))] = 2"
      ],
      "metadata": {
        "id": "gnlshlcJEmmC"
      },
      "execution_count": 6,
      "outputs": []
    },
    {
      "cell_type": "code",
      "source": [
        "sampler_config = {'solver': 'DW_2000Q_6', 'token': 'YOUR_TOKEN'}\n",
        "sampler = EmbeddingComposite(DWaveSampler(**sampler_config))"
      ],
      "metadata": {
        "id": "NTMMOjHNFIbS"
      },
      "execution_count": 7,
      "outputs": []
    },
    {
      "cell_type": "code",
      "source": [
        "sampleset = sampler.sample_qubo(QUBO)"
      ],
      "metadata": {
        "id": "9BJy_dveE7RW"
      },
      "execution_count": 8,
      "outputs": []
    },
    {
      "cell_type": "code",
      "source": [
        "print(sampleset.record.sample[0])"
      ],
      "metadata": {
        "colab": {
          "base_uri": "https://localhost:8080/"
        },
        "id": "fPE8F0nBFM9v",
        "outputId": "a2166f63-66ed-44ba-85f0-bd782ea4cf4f"
      },
      "execution_count": 11,
      "outputs": [
        {
          "output_type": "stream",
          "name": "stdout",
          "text": [
            "[1 1 0 1 0 0 0 0 0 1]\n"
          ]
        }
      ]
    },
    {
      "cell_type": "code",
      "source": [
        "independent_set = set([nodes[i] for i in range(n) if sampleset.record.sample[0][i]==1])\n",
        "G1 = G.subgraph(independent_set)\n",
        "nx.draw_networkx(G1)\n",
        "plt.show()"
      ],
      "metadata": {
        "colab": {
          "base_uri": "https://localhost:8080/",
          "height": 248
        },
        "id": "KKHhSbPsFRtD",
        "outputId": "1c58a8ea-6c53-4fb9-f3a6-4d2b1410ce4b"
      },
      "execution_count": 13,
      "outputs": [
        {
          "output_type": "display_data",
          "data": {
            "text/plain": [
              "<Figure size 432x288 with 1 Axes>"
            ],
            "image/png": "[encoded data removed]"
          },
          "metadata": {}
        }
      ]
    }
  ]
}